{
 "cells": [
  {
   "cell_type": "markdown",
   "id": "e9b4644a",
   "metadata": {},
   "source": [
    "Import Pandas"
   ]
  },
  {
   "cell_type": "code",
   "execution_count": 1,
   "id": "d4894120",
   "metadata": {},
   "outputs": [],
   "source": [
    "# Import the necessary packages\n",
    "import pandas as pd"
   ]
  },
  {
   "cell_type": "code",
   "execution_count": null,
   "id": "c0544636",
   "metadata": {},
   "outputs": [],
   "source": [
    "# Import the movies data set\n",
    "movies = pd.read_excel('movies.xlsx')\n",
    "\n",
    "# View the DataFrame\n",
    "movies.head()"
   ]
  },
  {
   "cell_type": "code",
   "execution_count": null,
   "id": "872042ea",
   "metadata": {},
   "outputs": [],
   "source": [
    "# Import the ott data set\n",
    "ott = pd.read_csv('ott.csv')\n",
    "\n",
    "# View the DataFrame\n",
    "ott.head()"
   ]
  },
  {
   "cell_type": "markdown",
   "id": "b5145336",
   "metadata": {},
   "source": [
    "Validate data sets"
   ]
  },
  {
   "cell_type": "code",
   "execution_count": null,
   "id": "f09f1435",
   "metadata": {},
   "outputs": [],
   "source": [
    "# Validate the DataFrame with shape\n",
    "print(movies.shape)\n",
    "\n",
    "# View the DataFrame\n",
    "print(ott.shape)"
   ]
  },
  {
   "cell_type": "code",
   "execution_count": null,
   "id": "d933fb62",
   "metadata": {},
   "outputs": [],
   "source": [
    "# Validate the DataFrame with the head() function\n",
    "print(movies.head())\n",
    "\n",
    "# View the DataFrame\n",
    "print(ott.head())"
   ]
  },
  {
   "cell_type": "code",
   "execution_count": null,
   "id": "401b3b26",
   "metadata": {},
   "outputs": [],
   "source": [
    "# validate with tail()\n",
    "print(movies.tail())\n",
    "\n",
    "# View the DataFrame\n",
    "print(ott.tail())"
   ]
  },
  {
   "cell_type": "markdown",
   "id": "1fbbe6e4",
   "metadata": {},
   "source": [
    "Describe the data sets"
   ]
  },
  {
   "cell_type": "code",
   "execution_count": null,
   "id": "ee1854f3",
   "metadata": {},
   "outputs": [],
   "source": [
    "# Describe the data set\n",
    "print(movies.dtypes)\n",
    "\n",
    "# View the DataFrame\n",
    "print(ott.dtypes)"
   ]
  },
  {
   "cell_type": "code",
   "execution_count": null,
   "id": "e3d0c515",
   "metadata": {},
   "outputs": [],
   "source": []
  },
  {
   "cell_type": "code",
   "execution_count": null,
   "id": "4ff01a18",
   "metadata": {},
   "outputs": [],
   "source": []
  }
 ],
 "metadata": {
  "kernelspec": {
   "display_name": "Python 3 (ipykernel)",
   "language": "python",
   "name": "python3"
  },
  "language_info": {
   "codemirror_mode": {
    "name": "ipython",
    "version": 3
   },
   "file_extension": ".py",
   "mimetype": "text/x-python",
   "name": "python",
   "nbconvert_exporter": "python",
   "pygments_lexer": "ipython3",
   "version": "3.9.7"
  }
 },
 "nbformat": 4,
 "nbformat_minor": 5
}
